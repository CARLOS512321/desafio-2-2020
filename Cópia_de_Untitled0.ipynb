{
  "nbformat": 4,
  "nbformat_minor": 0,
  "metadata": {
    "colab": {
      "name": "Cópia de Untitled0.ipynb",
      "provenance": [],
      "collapsed_sections": [],
      "authorship_tag": "ABX9TyNXhcxlIFaL2HVUIbxjWQQQ",
      "include_colab_link": true
    },
    "kernelspec": {
      "name": "python3",
      "display_name": "Python 3"
    },
    "language_info": {
      "name": "python"
    }
  },
  "cells": [
    {
      "cell_type": "markdown",
      "metadata": {
        "id": "view-in-github",
        "colab_type": "text"
      },
      "source": [
        "<a href=\"https://colab.research.google.com/github/CARLOS512321/desafio-2-2020/blob/master/C%C3%B3pia_de_Untitled0.ipynb\" target=\"_parent\"><img src=\"https://colab.research.google.com/assets/colab-badge.svg\" alt=\"Open In Colab\"/></a>"
      ]
    },
    {
      "cell_type": "code",
      "metadata": {
        "colab": {
          "base_uri": "https://localhost:8080/"
        },
        "id": "4K_1sh4aSvSU",
        "outputId": "1e891739-e720-4bf8-85f6-5b5351debd2c"
      },
      "source": [
        "preco = 1000\n",
        "tipo_preco = type(preco)\n",
        "\n",
        "print(preco)\n",
        "print(tipo_preco)\n",
        "\n",
        "juros = 0.05\n",
        "tipo_juros = type(juros)\n",
        "\n",
        "print(juros)\n",
        "print(tipo_juros)\n"
      ],
      "execution_count": null,
      "outputs": [
        {
          "output_type": "stream",
          "text": [
            "1000\n",
            "<class 'int'>\n",
            "0.05\n",
            "<class 'float'>\n"
          ],
          "name": "stdout"
        }
      ]
    },
    {
      "cell_type": "code",
      "metadata": {
        "colab": {
          "base_uri": "https://localhost:8080/"
        },
        "id": "QgBc9D9aXwLg",
        "outputId": "bd836bbf-8864-4b93-8bca-83b862d0e4a1"
      },
      "source": [
        "primeiro_nome = \"André\"\n",
        "\n",
        "print(primeiro_nome)\n",
        "print(type(primeiro_nome))\n",
        "\n",
        "pais = \"Brasil\"\n",
        "\n",
        "print(pais)\n",
        "print(type(pais))\n",
        "\n"
      ],
      "execution_count": null,
      "outputs": [
        {
          "output_type": "stream",
          "text": [
            "André\n",
            "<class 'str'>\n",
            "Brasil\n",
            "<class 'str'>\n"
          ],
          "name": "stdout"
        }
      ]
    },
    {
      "cell_type": "markdown",
      "metadata": {
        "id": "ErFrVPh8XXzu"
      },
      "source": [
        "\n",
        "Tipos lógicos boleanos(bool):\n"
      ]
    },
    {
      "cell_type": "code",
      "metadata": {
        "colab": {
          "base_uri": "https://localhost:8080/"
        },
        "id": "vhB96EEGZXC3",
        "outputId": "7b6a47df-4d83-4807-863c-5e9f43b84224"
      },
      "source": [
        "usuario_maior_de_idade = True\n",
        "\n",
        "print(usuario_maior_de_idade)\n",
        "print(type(usuario_maior_de_idade))"
      ],
      "execution_count": null,
      "outputs": [
        {
          "output_type": "stream",
          "text": [
            "True\n",
            "<class 'bool'>\n"
          ],
          "name": "stdout"
        }
      ]
    },
    {
      "cell_type": "markdown",
      "metadata": {
        "id": "vtgusADOaOcT"
      },
      "source": [
        "Tipo Vazio(NomeType)\n",
        "\n"
      ]
    },
    {
      "cell_type": "code",
      "metadata": {
        "colab": {
          "base_uri": "https://localhost:8080/"
        },
        "id": "b87NkjEqagiz",
        "outputId": "e51c32df-bc58-442b-91c1-aa6be8e31986"
      },
      "source": [
        "telefone_fixo = None\n",
        "\n",
        "print(telefone_fixo)\n",
        "print(type(telefone_fixo))"
      ],
      "execution_count": null,
      "outputs": [
        {
          "output_type": "stream",
          "text": [
            "None\n",
            "<class 'NoneType'>\n"
          ],
          "name": "stdout"
        }
      ]
    },
    {
      "cell_type": "markdown",
      "metadata": {
        "id": "C9e6E6OMbm4q"
      },
      "source": [
        "Números"
      ]
    },
    {
      "cell_type": "code",
      "metadata": {
        "id": "05tzIqhwbucj"
      },
      "source": [
        ""
      ],
      "execution_count": null,
      "outputs": []
    },
    {
      "cell_type": "markdown",
      "metadata": {
        "id": "Iz4GJoAocKE6"
      },
      "source": [
        "Motivação\n",
        "\n",
        "Você precisa calcular o ticket médio diário tkt do seu restauramente. A métrica é calculada pela soma do valor das vendas svv de um mesmo dia dividido pela quantidade de vendas sqv, também de um mesmo dia.\n",
        "\n",
        "\n",
        "tkt == svv/sqv\n",
        "\n",
        "Esta é sua planilha: \n",
        "\n",
        "Dia Valor Total das Vendas   Qtd Total Vendas Ticket Médio\n",
        "19/01    153,98               3                 ?\n",
        "20/01    237,01               7                 ?\n",
        "23/01    295,33               5                 ?\n",
        "\n",
        "Como podemos fazer esta cálculo usando o Python?\n",
        "\n",
        "\n",
        "\n",
        "\n"
      ]
    },
    {
      "cell_type": "markdown",
      "metadata": {
        "id": "gCQwa-vted9x"
      },
      "source": [
        ""
      ]
    },
    {
      "cell_type": "markdown",
      "metadata": {
        "id": "vnfKsQdCfAEp"
      },
      "source": [
        "Definição\n"
      ]
    },
    {
      "cell_type": "markdown",
      "metadata": {
        "id": "rRHnGWf1fHPb"
      },
      "source": [
        "Armazenam **valores numéricos**\n",
        "\n",
        "* 10, 37, 500 (Inteiros);\n",
        "* 0.333, 10.1 (decimal);\n",
        "* 1 + 2j (complexos)."
      ]
    },
    {
      "cell_type": "markdown",
      "metadata": {
        "id": "c11q5X4Bf202"
      },
      "source": [
        ""
      ]
    },
    {
      "cell_type": "code",
      "metadata": {
        "colab": {
          "base_uri": "https://localhost:8080/"
        },
        "id": "QMEIaSrjgAv5",
        "outputId": "daa248a9-94a5-4b98-bc1c-44382bf63205"
      },
      "source": [
        "print(type(37))\n",
        "print(type(10.1))\n",
        "print(type(1 + 2))"
      ],
      "execution_count": null,
      "outputs": [
        {
          "output_type": "stream",
          "text": [
            "<class 'int'>\n",
            "<class 'float'>\n",
            "<class 'int'>\n"
          ],
          "name": "stdout"
        }
      ]
    }
  ]
}