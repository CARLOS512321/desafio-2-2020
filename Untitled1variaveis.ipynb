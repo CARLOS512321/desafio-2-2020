{
  "nbformat": 4,
  "nbformat_minor": 0,
  "metadata": {
    "colab": {
      "name": "Untitled1.ipynb",
      "provenance": [],
      "collapsed_sections": [],
      "authorship_tag": "ABX9TyM4QgjPsWlFYYynmc/2Jy6q",
      "include_colab_link": true
    },
    "kernelspec": {
      "name": "python3",
      "display_name": "Python 3"
    },
    "language_info": {
      "name": "python"
    }
  },
  "cells": [
    {
      "cell_type": "markdown",
      "metadata": {
        "id": "view-in-github",
        "colab_type": "text"
      },
      "source": [
        "<a href=\"https://colab.research.google.com/github/CARLOS512321/desafio-2-2020/blob/master/Untitled1variaveis.ipynb\" target=\"_parent\"><img src=\"https://colab.research.google.com/assets/colab-badge.svg\" alt=\"Open In Colab\"/></a>"
      ]
    },
    {
      "cell_type": "markdown",
      "metadata": {
        "id": "raucp7pyuUwE"
      },
      "source": [
        "Variáveis"
      ]
    },
    {
      "cell_type": "markdown",
      "metadata": {
        "id": "ckzenRupuYiC"
      },
      "source": [
        "Mecanismo de armazenamento de dados, ou seja, dados salvos em pedacinhos da memórioa RAM do sistema computacional em uso (notebook, mobile, console de vídeo game, smartwatch, etc.)."
      ]
    },
    {
      "cell_type": "code",
      "metadata": {
        "colab": {
          "base_uri": "https://localhost:8080/"
        },
        "id": "o7FMhT8TvGDR",
        "outputId": "226d8934-5e2c-4744-a004-8e55160f6f74"
      },
      "source": [
        "idade = 30\n",
        "print(Idade)\n",
        "\n",
        "idade = 27\n",
        "print(idade)\n",
        "\n",
        "nome = \"andré\"\n",
        "print(nome)"
      ],
      "execution_count": 3,
      "outputs": [
        {
          "output_type": "stream",
          "text": [
            "30\n",
            "27\n",
            "andré\n"
          ],
          "name": "stdout"
        }
      ]
    },
    {
      "cell_type": "markdown",
      "metadata": {
        "id": "k20QIp8HvSgG"
      },
      "source": [
        "Tipos Nativos\n",
        "\n",
        "Tipos numéricos: inteiros (int) e decimais (float):"
      ]
    },
    {
      "cell_type": "code",
      "metadata": {
        "colab": {
          "base_uri": "https://localhost:8080/"
        },
        "id": "Z_PJXqJjvmIs",
        "outputId": "a74d82e5-969a-47ad-d42b-a37c43d0b0ff"
      },
      "source": [
        "preco = 1000\n",
        "tipo_preco = type(preco)\n",
        "\n",
        "print(preco)\n",
        "print(tipo_preco)\n",
        "\n",
        "juros = 0.05\n",
        "tipo_juros = type(preco)\n",
        "\n",
        "print(juros)\n",
        "print(tipo_juros)"
      ],
      "execution_count": 2,
      "outputs": [
        {
          "output_type": "stream",
          "text": [
            "1000\n",
            "<class 'int'>\n",
            "0.05\n",
            "<class 'int'>\n"
          ],
          "name": "stdout"
        }
      ]
    },
    {
      "cell_type": "markdown",
      "metadata": {
        "id": "NZGWk4xxxOEl"
      },
      "source": [
        "Tipos de texto: strings (str)"
      ]
    },
    {
      "cell_type": "code",
      "metadata": {
        "colab": {
          "base_uri": "https://localhost:8080/"
        },
        "id": "myd-K-AfxtY9",
        "outputId": "4a3d07a0-c344-4d06-9990-b92c4c6cea91"
      },
      "source": [
        "primeiro_nome = \"André\"\n",
        "\n",
        "print(primeiro_nome)\n",
        "print(type(primeiro_nome))\n",
        "\n",
        "pais = \"Brasil\"\n",
        "\n",
        "print(pais)\n",
        "print(type(pais))"
      ],
      "execution_count": 7,
      "outputs": [
        {
          "output_type": "stream",
          "text": [
            "André\n",
            "<class 'str'>\n",
            "Brasil\n",
            "<class 'str'>\n"
          ],
          "name": "stdout"
        }
      ]
    },
    {
      "cell_type": "markdown",
      "metadata": {
        "id": "wkg_CmeuzGHN"
      },
      "source": [
        "Tipos lógicos: boleanos (bool):"
      ]
    },
    {
      "cell_type": "code",
      "metadata": {
        "colab": {
          "base_uri": "https://localhost:8080/"
        },
        "id": "ZMlD04WVzaqA",
        "outputId": "95e3568f-9ea4-4aef-bd41-add0ceffb249"
      },
      "source": [
        "usuário_maior_de_idade = True\n",
        "\n",
        "print(usuário_maior_de_idade)\n",
        "print(type(usuário_maior_de_idade))\n"
      ],
      "execution_count": 9,
      "outputs": [
        {
          "output_type": "stream",
          "text": [
            "True\n",
            "<class 'bool'>\n"
          ],
          "name": "stdout"
        }
      ]
    },
    {
      "cell_type": "markdown",
      "metadata": {
        "id": "Dx9qyGw80FfI"
      },
      "source": [
        "Tipo vazio(NoneType):"
      ]
    },
    {
      "cell_type": "code",
      "metadata": {
        "colab": {
          "base_uri": "https://localhost:8080/"
        },
        "id": "zzC4thpu0N7x",
        "outputId": "9226017d-4f92-4dd9-df3d-aab4d747d245"
      },
      "source": [
        "telefone_fixo = None\n",
        "\n",
        "print(telefone_fixo)\n",
        "print(type(telefone_fixo))"
      ],
      "execution_count": 10,
      "outputs": [
        {
          "output_type": "stream",
          "text": [
            "None\n",
            "<class 'NoneType'>\n"
          ],
          "name": "stdout"
        }
      ]
    },
    {
      "cell_type": "markdown",
      "metadata": {
        "id": "P5tSDX9r0e4D"
      },
      "source": [
        "Números"
      ]
    },
    {
      "cell_type": "markdown",
      "metadata": {
        "id": "J_FNcCVh2og1"
      },
      "source": [
        "**Motivação**\n",
        "\n",
        "Armazenam valores numéricos:"
      ]
    },
    {
      "cell_type": "markdown",
      "metadata": {
        "id": "Tw0ep-8K4LOI"
      },
      "source": [
        "Você precisa calcular o ticket médio tkt do seu restaurante. A métrica é calculada pela soma do valor das vendas svv de um mesmo dia dividido pela quantidade de vendas sqv, também de um mesmo dia.\n",
        "\n",
        "tkt == svv/sqv\n",
        "\n",
        "Esta é a sua planilha:\n",
        "\n"
      ]
    },
    {
      "cell_type": "markdown",
      "metadata": {
        "id": "qHxYJ42w5Nq_"
      },
      "source": [
        "Dia  Vr.TotalVendas  Qtd.Total Vendas   Ticket Médio\n",
        "________________________________________________________________________\n",
        "19/01       153,98          3             ?\n",
        "20/01       337,01          7             ?\n",
        "23/01       295,33          5             ?\n",
        "\n",
        "\n",
        "\n",
        "\n",
        "\n"
      ]
    },
    {
      "cell_type": "markdown",
      "metadata": {
        "id": "_hojUlnw-aC7"
      },
      "source": [
        ""
      ]
    },
    {
      "cell_type": "markdown",
      "metadata": {
        "id": "7ml5tt407ZSA"
      },
      "source": [
        "Como podemos fazer este cálculo usando o Python?"
      ]
    },
    {
      "cell_type": "code",
      "metadata": {
        "id": "2m7Ybc8t66jD"
      },
      "source": [
        ""
      ],
      "execution_count": null,
      "outputs": []
    },
    {
      "cell_type": "markdown",
      "metadata": {
        "id": "1zXj5Zt4--9Y"
      },
      "source": [
        "**Definição**\n",
        "\n",
        "* 10, 37, 500 (inteiros):\n",
        "* 0.333, 10.1 (decimal):\n",
        "* 1 + 2j (complexos)."
      ]
    },
    {
      "cell_type": "markdown",
      "metadata": {
        "id": "xfHN43c9_jeb"
      },
      "source": [
        "São tipos:\n",
        "\n",
        "* int (inteiros;\n",
        "* float (decimais);\n",
        "* complex (complexos)."
      ]
    },
    {
      "cell_type": "code",
      "metadata": {
        "colab": {
          "base_uri": "https://localhost:8080/"
        },
        "id": "FrxtATvoAAAz",
        "outputId": "022cae8d-4ea4-4979-a334-326d0847d547"
      },
      "source": [
        "print(type(37))\n",
        "print(type(10.1))\n",
        "print(type(1 + 2j))\n"
      ],
      "execution_count": 12,
      "outputs": [
        {
          "output_type": "stream",
          "text": [
            "<class 'int'>\n",
            "<class 'float'>\n",
            "<class 'complex'>\n"
          ],
          "name": "stdout"
        }
      ]
    },
    {
      "cell_type": "markdown",
      "metadata": {
        "id": "SNumEakpAUQ3"
      },
      "source": [
        "**Operações**"
      ]
    },
    {
      "cell_type": "markdown",
      "metadata": {
        "id": "l2X4FIk9AZKZ"
      },
      "source": [
        ""
      ]
    },
    {
      "cell_type": "markdown",
      "metadata": {
        "id": "ShC4miJlBCDM"
      },
      "source": [
        "As operações dos tipos numéricos são as quatro operações matemáticas fundamentais:\n",
        "\n",
        "* (+) (some);\n",
        "* (-) (subtração);\n",
        "* (*) (multiplicação);\n",
        "* (/) (divisão).\n",
        "\n",
        "Além de operaçoes mais avançadas:\n",
        "\n",
        "* // (divisão inteira)\n",
        "* ** (potência ou exponenciação);\n",
        "* %  (resta da divisão).\n",
        "\n",
        "Exemplo: Carrinho de compra de um e-commerce.\n"
      ]
    },
    {
      "cell_type": "markdown",
      "metadata": {
        "id": "Vy7XJ3b_CKHw"
      },
      "source": [
        ""
      ]
    },
    {
      "cell_type": "code",
      "metadata": {
        "colab": {
          "base_uri": "https://localhost:8080/"
        },
        "id": "fWgJJs8eB-Oy",
        "outputId": "805362d2-da2a-4913-af5d-0e0225e8edb2"
      },
      "source": [
        "qtd_itens_carrinho_compra = 0\n",
        "\n",
        "qtd_itens_carrinho_compra = qtd_itens_carrinho_compra + 1\n",
        "print(qtd_itens_carrinho_compra)\n",
        "\n",
        "qtd_itens_carrinho_compra = qtd_itens_carrinho_compra + 1\n",
        "print(qtd_itens_carrinho_compra)\n",
        "\n"
      ],
      "execution_count": 18,
      "outputs": [
        {
          "output_type": "stream",
          "text": [
            "1\n",
            "2\n"
          ],
          "name": "stdout"
        }
      ]
    },
    {
      "cell_type": "code",
      "metadata": {
        "colab": {
          "base_uri": "https://localhost:8080/"
        },
        "id": "7FkOO7fwS0sB",
        "outputId": "b0d71caf-ce0d-4b3d-da00-abd4b8323362"
      },
      "source": [
        "qtd_itens_carrinho_compra = 0\n",
        "\n",
        "qtd_itens_carrinho_compra += 1\n",
        "print(qtd_itens_carrinho_compra)\n",
        "\n",
        "qtd_itens_carrinho_compra += 1\n",
        "print(qtd_itens_carrinho_compra)\n",
        "\n"
      ],
      "execution_count": 20,
      "outputs": [
        {
          "output_type": "stream",
          "text": [
            "1\n",
            "2\n"
          ],
          "name": "stdout"
        }
      ]
    },
    {
      "cell_type": "code",
      "metadata": {
        "colab": {
          "base_uri": "https://localhost:8080/"
        },
        "id": "CfQ0vztdTXVh",
        "outputId": "b2106505-efd1-40d3-c959-c91a81349da4"
      },
      "source": [
        "preco = 47\n",
        "quantidade = 0.250\n",
        "\n",
        "total_a_pagar = quantidade * preco\n",
        "print(total_a_pagar )"
      ],
      "execution_count": 21,
      "outputs": [
        {
          "output_type": "stream",
          "text": [
            "11.75\n"
          ],
          "name": "stdout"
        }
      ]
    },
    {
      "cell_type": "code",
      "metadata": {
        "colab": {
          "base_uri": "https://localhost:8080/"
        },
        "id": "F8t0trOSWBNh",
        "outputId": "589a127f-dafb-4f0b-a15f-7ddbc6307807"
      },
      "source": [
        "a = 3\n",
        "b = 2\n",
        "\n",
        "c = a/b\n",
        "print(c)\n",
        "print(type(c))\n",
        "\n",
        "d = a//b\n",
        "print(d)\n",
        "print(type(d))\n"
      ],
      "execution_count": 22,
      "outputs": [
        {
          "output_type": "stream",
          "text": [
            "1.5\n",
            "<class 'float'>\n",
            "1\n",
            "<class 'int'>\n"
          ],
          "name": "stdout"
        }
      ]
    },
    {
      "cell_type": "code",
      "metadata": {
        "colab": {
          "base_uri": "https://localhost:8080/"
        },
        "id": "zbi-i0_FXimz",
        "outputId": "110201c5-52c5-40bf-f73a-e38b56c2a0cd"
      },
      "source": [
        "print(int(3.9))\n",
        "\n",
        "print(float(10))\n",
        "\n",
        "print(complex(1))\n"
      ],
      "execution_count": 23,
      "outputs": [
        {
          "output_type": "stream",
          "text": [
            "3\n",
            "10.0\n",
            "(1+0j)\n"
          ],
          "name": "stdout"
        }
      ]
    },
    {
      "cell_type": "markdown",
      "metadata": {
        "id": "Z0-U5c-vZufa"
      },
      "source": [
        "Conversão\n",
        "\n",
        "Podemos converter os tipos numéricos entre si utilizando o método nativo int, float e complex:\n",
        "\n",
        "Dia 19/01 Total vendas 153,98 Qtd 3 Ticlet Médio ? Dia 20/01 237,01 7 ? Dia 23/01 295,33 5 ?"
      ]
    },
    {
      "cell_type": "markdown",
      "metadata": {
        "id": "OZFTwL30Y1L1"
      },
      "source": [
        ""
      ]
    },
    {
      "cell_type": "markdown",
      "metadata": {
        "id": "5Kwbuw2jX3wE"
      },
      "source": [
        "**Revisitando** **a** **motivação**"
      ]
    },
    {
      "cell_type": "markdown",
      "metadata": {
        "id": "y8Nr93_eYCDO"
      },
      "source": [
        "Tabela Motivação"
      ]
    },
    {
      "cell_type": "markdown",
      "metadata": {
        "id": "fVgsJUw7aGji"
      },
      "source": [
        "Ticket médio diário do dia 19/01.\n"
      ]
    },
    {
      "cell_type": "code",
      "metadata": {
        "colab": {
          "base_uri": "https://localhost:8080/"
        },
        "id": "Y2bwuWefaMls",
        "outputId": "f58a28f7-d99f-4605-c84c-33e84b190ca5"
      },
      "source": [
        "svv_19 = 153.98\n",
        "sqv_19 = 3\n",
        "\n",
        "tkt_19 = svv_19 / sqv_19\n",
        "print(tkt_19)\n"
      ],
      "execution_count": 25,
      "outputs": [
        {
          "output_type": "stream",
          "text": [
            "51.32666666666666\n"
          ],
          "name": "stdout"
        }
      ]
    },
    {
      "cell_type": "code",
      "metadata": {
        "colab": {
          "base_uri": "https://localhost:8080/"
        },
        "id": "DrYksqzhbIBc",
        "outputId": "56b41ec6-6b30-4673-acd3-fb4d3dc66dbd"
      },
      "source": [
        "svv_20 = 337.01\n",
        "sqv_20 = 7\n",
        "\n",
        "tkt_20 = svv_20 / sqv_20\n",
        "print(tkt_20)\n"
      ],
      "execution_count": 26,
      "outputs": [
        {
          "output_type": "stream",
          "text": [
            "48.144285714285715\n"
          ],
          "name": "stdout"
        }
      ]
    },
    {
      "cell_type": "code",
      "metadata": {
        "colab": {
          "base_uri": "https://localhost:8080/"
        },
        "id": "B9W-IGZNbZGP",
        "outputId": "9d96749a-45ef-4de6-bfc2-dad7ce88ba85"
      },
      "source": [
        "svv_23 = 295.33\n",
        "sqv_23 = 5\n",
        "\n",
        "tkt_23 = svv_23 / sqv_23\n",
        "print(tkt_23)"
      ],
      "execution_count": 28,
      "outputs": [
        {
          "output_type": "stream",
          "text": [
            "59.065999999999995\n"
          ],
          "name": "stdout"
        }
      ]
    },
    {
      "cell_type": "markdown",
      "metadata": {
        "id": "GPTml0jyYOLc"
      },
      "source": [
        ""
      ]
    },
    {
      "cell_type": "markdown",
      "metadata": {
        "id": "ZoOq8GIlcCPk"
      },
      "source": [
        "**Ticket** **médio**"
      ]
    },
    {
      "cell_type": "code",
      "metadata": {
        "colab": {
          "base_uri": "https://localhost:8080/"
        },
        "id": "WUO6Q2occHph",
        "outputId": "5524e00e-6ecf-4c6c-ecbc-bfe3fad4f707"
      },
      "source": [
        "tkt =(tkt_19 + tkt_20 + tkt_23) / 3\n",
        "print(tkt)\n"
      ],
      "execution_count": 29,
      "outputs": [
        {
          "output_type": "stream",
          "text": [
            "52.8456507936508\n"
          ],
          "name": "stdout"
        }
      ]
    },
    {
      "cell_type": "markdown",
      "metadata": {
        "id": "klbOg72XVANP"
      },
      "source": [
        ""
      ]
    },
    {
      "cell_type": "markdown",
      "metadata": {
        "id": "hfBY6eaLCRrv"
      },
      "source": [
        ""
      ]
    },
    {
      "cell_type": "markdown",
      "metadata": {
        "id": "OajO6w5m5GkD"
      },
      "source": [
        ""
      ]
    }
  ]
}